{
 "cells": [
  {
   "cell_type": "markdown",
   "metadata": {},
   "source": [
    "# Explore here"
   ]
  },
  {
   "cell_type": "code",
   "execution_count": 21,
   "metadata": {},
   "outputs": [
    {
     "name": "stdout",
     "output_type": "stream",
     "text": [
      "               Track Name  Popularity Duration\n",
      "6               Macetitas          14   3m 22s\n",
      "3                Espacial          16   3m 27s\n",
      "9   Pastillas para dormir          17   3m 37s\n",
      "7                  Viajar          18   3m 16s\n",
      "8            Yo Te Espero          18   3m 22s\n",
      "5     No Quiero Ser Simba          20   3m 25s\n",
      "4                Vertical          21   3m 46s\n",
      "2            Cara de Culo          25   2m 26s\n",
      "1  Avisame Cuando Llegues          29   3m 31s\n",
      "0                 UVA UVA          35   3m 10s\n"
     ]
    }
   ],
   "source": [
    "import os\n",
    "import pandas as pd\n",
    "#import seaborn as sns\n",
    "from dotenv import load_dotenv\n",
    "import spotipy\n",
    "from spotipy.oauth2 import SpotifyClientCredentials\n",
    "\n",
    "# load the .env file variables\n",
    "load_dotenv()\n",
    "\n",
    "#client_id = os.environ.get(\"CLIENT_ID\")\n",
    "#client_secret = os.environ.get(\"CLIENT_SECRET\")\n",
    "SpotifyClientCredentials()\n",
    "\n",
    "spotipy.Spotify()\n",
    "\n",
    "ID_rada=\"1FuC6w5K3iO32aU8k4TiPA\"\n",
    "\n",
    "spotify = spotipy.Spotify(client_credentials_manager=SpotifyClientCredentials())\n",
    "results = spotify.artist_top_tracks(ID_rada)\n",
    "\n",
    "track_data = []\n",
    "\n",
    "for track in results['tracks'][:10]:\n",
    "    name = track['name']\n",
    "    popularity = track['popularity']\n",
    "    duration_ms = track['duration_ms']\n",
    "    # Convertir la duración de milisegundos a minutos y segundos\n",
    "    minutes = duration_ms // 60000\n",
    "    seconds = (duration_ms % 60000) // 1000\n",
    "    duration = f\"{minutes}m {seconds}s\"  # Duración en formato legible\n",
    "    \n",
    "    #print(f'Track: {name}\\nPopularity: {popularity}\\nDuration: {minutes}m {seconds}s\\n')\n",
    "\n",
    "    # Agregar los datos de la canción al diccionario\n",
    "    track_data.append({\n",
    "        'Track Name': name,\n",
    "        'Popularity': popularity,\n",
    "        'Duration': duration})\n",
    "\n",
    "# Crear el DataFrame a partir de la lista de diccionarios\n",
    "df_tracks = pd.DataFrame(track_data)\n",
    "\n",
    "# Mostrar el DataFrame\n",
    "#print(df_tracks)\n",
    "\n",
    "# Ordenar el DataFrame por popularidad en orden ascendente\n",
    "df_tracks_sorted = df_tracks.sort_values(by='Popularity', ascending=True)\n",
    "\n",
    "# Mostrar el DataFrame ordenado\n",
    "print(df_tracks_sorted)\n",
    "\n",
    "\n",
    "\n"
   ]
  }
 ],
 "metadata": {
  "kernelspec": {
   "display_name": "Python 3",
   "language": "python",
   "name": "python3"
  },
  "language_info": {
   "codemirror_mode": {
    "name": "ipython",
    "version": 3
   },
   "file_extension": ".py",
   "mimetype": "text/x-python",
   "name": "python",
   "nbconvert_exporter": "python",
   "pygments_lexer": "ipython3",
   "version": "3.11.4"
  },
  "orig_nbformat": 4
 },
 "nbformat": 4,
 "nbformat_minor": 2
}
