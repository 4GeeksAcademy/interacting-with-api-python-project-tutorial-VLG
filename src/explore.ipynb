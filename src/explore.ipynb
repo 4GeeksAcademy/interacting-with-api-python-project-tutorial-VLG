{
 "cells": [
  {
   "cell_type": "markdown",
   "metadata": {},
   "source": [
    "# Explore here"
   ]
  },
  {
   "cell_type": "code",
   "execution_count": 1,
   "metadata": {},
   "outputs": [
    {
     "name": "stdout",
     "output_type": "stream",
     "text": [
      "Las canciones más populares de Soy Rada and the Colibriquis son:\n"
     ]
    },
    {
     "data": {
      "text/html": [
       "<div>\n",
       "<style scoped>\n",
       "    .dataframe tbody tr th:only-of-type {\n",
       "        vertical-align: middle;\n",
       "    }\n",
       "\n",
       "    .dataframe tbody tr th {\n",
       "        vertical-align: top;\n",
       "    }\n",
       "\n",
       "    .dataframe thead th {\n",
       "        text-align: right;\n",
       "    }\n",
       "</style>\n",
       "<table border=\"1\" class=\"dataframe\">\n",
       "  <thead>\n",
       "    <tr style=\"text-align: right;\">\n",
       "      <th></th>\n",
       "      <th>Track Name</th>\n",
       "      <th>Popularity</th>\n",
       "      <th>Duration (ms)</th>\n",
       "      <th>Duration</th>\n",
       "    </tr>\n",
       "  </thead>\n",
       "  <tbody>\n",
       "    <tr>\n",
       "      <th>0</th>\n",
       "      <td>UVA UVA</td>\n",
       "      <td>35</td>\n",
       "      <td>190495</td>\n",
       "      <td>3m 10s</td>\n",
       "    </tr>\n",
       "    <tr>\n",
       "      <th>1</th>\n",
       "      <td>Avisame Cuando Llegues</td>\n",
       "      <td>28</td>\n",
       "      <td>211521</td>\n",
       "      <td>3m 31s</td>\n",
       "    </tr>\n",
       "    <tr>\n",
       "      <th>2</th>\n",
       "      <td>Cara de Culo</td>\n",
       "      <td>25</td>\n",
       "      <td>146116</td>\n",
       "      <td>2m 26s</td>\n",
       "    </tr>\n",
       "  </tbody>\n",
       "</table>\n",
       "</div>"
      ],
      "text/plain": [
       "               Track Name  Popularity  Duration (ms) Duration\n",
       "0                 UVA UVA          35         190495   3m 10s\n",
       "1  Avisame Cuando Llegues          28         211521   3m 31s\n",
       "2            Cara de Culo          25         146116   2m 26s"
      ]
     },
     "execution_count": 1,
     "metadata": {},
     "output_type": "execute_result"
    }
   ],
   "source": [
    "import os\n",
    "import pandas as pd\n",
    "#import seaborn as sns\n",
    "from dotenv import load_dotenv\n",
    "import spotipy\n",
    "from spotipy.oauth2 import SpotifyClientCredentials\n",
    "\n",
    "# load the .env file variables\n",
    "load_dotenv()\n",
    "\n",
    "#client_id = os.environ.get(\"CLIENT_ID\")\n",
    "#client_secret = os.environ.get(\"CLIENT_SECRET\")\n",
    "SpotifyClientCredentials()\n",
    "\n",
    "spotipy.Spotify()\n",
    "\n",
    "ID_rada=\"1FuC6w5K3iO32aU8k4TiPA\"\n",
    "\n",
    "spotify = spotipy.Spotify(client_credentials_manager=SpotifyClientCredentials())\n",
    "results = spotify.artist_top_tracks(ID_rada)\n",
    "\n",
    "track_data = []\n",
    "\n",
    "for track in results['tracks'][:10]:\n",
    "    name = track['name']\n",
    "    popularity = track['popularity']\n",
    "    duration_ms = track['duration_ms']\n",
    "    # Convertir la duración de milisegundos a minutos y segundos\n",
    "    minutes = duration_ms // 60000\n",
    "    seconds = (duration_ms % 60000) // 1000\n",
    "    duration = f\"{minutes}m {seconds}s\"  # Duración en formato legible\n",
    "    \n",
    "\n",
    "    # Agregar los datos de la canción al diccionario\n",
    "    track_data.append({\n",
    "        'Track Name': name,\n",
    "        'Popularity': popularity,\n",
    "        'Duration (ms)':duration_ms,\n",
    "        'Duration': duration})\n",
    "\n",
    "\n",
    "df_tracks = pd.DataFrame(track_data)\n",
    "\n",
    "# Ordenar el DataFrame por popularidad en orden descendente\n",
    "# NOTA: Aunque el ejercicio pide que lo ordenemos de forma ascendente, \n",
    "# lo hice al revés para que me quede el top 3 de las canciones más populares.\n",
    "df_tracks_sorted = df_tracks.sort_values(by='Popularity', ascending=False)\n",
    "\n",
    "# Muestra el top 3 de las canciones más populares. \n",
    "print(\"Las canciones más populares de Soy Rada and the Colibriquis son:\")\n",
    "df_tracks_sorted.head(3)\n"
   ]
  },
  {
   "cell_type": "code",
   "execution_count": 2,
   "metadata": {},
   "outputs": [
    {
     "data": {
      "image/png": "[encoded data removed]",
      "text/plain": [
       "<Figure size 640x480 with 1 Axes>"
      ]
     },
     "metadata": {},
     "output_type": "display_data"
    }
   ],
   "source": [
    "import matplotlib.pyplot as plt\n",
    "\n",
    "x=df_tracks[\"Duration (ms)\"]\n",
    "y=df_tracks[\"Popularity\"]\n",
    "\n",
    "# Crear scatter plot\n",
    "plt.scatter(x, y, color='b', s=50, alpha=0.7)\n",
    "\n",
    "# Etiquetas y título\n",
    "plt.xlabel(\"Duración (ms)\")\n",
    "plt.ylabel(\"Popularidad\")\n",
    "plt.title(\"Radagast and the Colibriquis\")\n",
    "\n",
    "# Mostrar la gráfica\n",
    "plt.show()\n",
    "\n",
    "\n"
   ]
  },
  {
   "cell_type": "markdown",
   "metadata": {},
   "source": [
    "No parece haber una relación directa entre la popularidad y la duración de las canciones. De hecho la cancón más popular tiene una duración media (con respecto a las otras canciones), y la canción más corta tiene una popularidad media (con respecto a las otras canciones)."
   ]
  }
 ],
 "metadata": {
  "kernelspec": {
   "display_name": "Python 3",
   "language": "python",
   "name": "python3"
  },
  "language_info": {
   "codemirror_mode": {
    "name": "ipython",
    "version": 3
   },
   "file_extension": ".py",
   "mimetype": "text/x-python",
   "name": "python",
   "nbconvert_exporter": "python",
   "pygments_lexer": "ipython3",
   "version": "3.11.4"
  },
  "orig_nbformat": 4
 },
 "nbformat": 4,
 "nbformat_minor": 2
}
